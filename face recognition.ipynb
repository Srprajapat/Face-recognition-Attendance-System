{
 "cells": [
  {
   "cell_type": "code",
   "execution_count": 3,
   "id": "c5d6c3b5",
   "metadata": {},
   "outputs": [],
   "source": [
    "import face_recognition\n",
    "import os\n",
    "import shutil\n",
    "import cv2"
   ]
  },
  {
   "cell_type": "code",
   "execution_count": 4,
   "id": "2d41577e",
   "metadata": {},
   "outputs": [],
   "source": [
    "\n",
    "# picture_of_me = face_recognition.load_image_file(\"data/1-2.jpg\")\n",
    "# my_face_encoding = face_recognition.face_encodings(picture_of_me)[0]\n",
    "\n",
    "# unknown_picture = face_recognition.load_image_file(\"extracted/me.jpg\")\n",
    "# unknown_face_encoding = face_recognition.face_encodings(unknown_picture)[0]\n",
    "\n",
    "# results = face_recognition.compare_faces([my_face_encoding], unknown_face_encoding)\n",
    "# print(results[0])\n",
    "# if results[0] == True:\n",
    "#     print(\"It's a picture of me!\")\n",
    "# else:\n",
    "#     print(\"It's not a picture of me!\")"
   ]
  },
  {
   "cell_type": "code",
   "execution_count": 5,
   "id": "797811d3",
   "metadata": {},
   "outputs": [],
   "source": [
    "def compare_face(img1, img2):\n",
    "    picture1 = face_recognition.load_image_file(img1)\n",
    "    picture1_encoding = face_recognition.face_encodings(picture1)[0]\n",
    "\n",
    "    picture2 = face_recognition.load_image_file(img2)\n",
    "    picture2_encoding = face_recognition.face_encodings(picture2)[0]\n",
    "\n",
    "    results = face_recognition.compare_faces([picture1_encoding], picture2_encoding)\n",
    "    return results[0]"
   ]
  },
  {
   "cell_type": "code",
   "execution_count": 6,
   "id": "68163438",
   "metadata": {},
   "outputs": [
    {
     "data": {
      "text/plain": [
       "np.True_"
      ]
     },
     "execution_count": 6,
     "metadata": {},
     "output_type": "execute_result"
    }
   ],
   "source": [
    "compare_face('data/me.jpg', 'data/Srp.jpg')"
   ]
  },
  {
   "cell_type": "code",
   "execution_count": 7,
   "id": "b10f3e6c",
   "metadata": {},
   "outputs": [
    {
     "name": "stdout",
     "output_type": "stream",
     "text": [
      "Issue with image data\\1-2.jpg [Errno 2] No such file or directory: 'extracted/me.jpg'\n",
      "Issue with image data\\happy.jpg [Errno 2] No such file or directory: 'extracted/me.jpg'\n",
      "Issue with image data\\images3.jpg [Errno 2] No such file or directory: 'extracted/me.jpg'\n",
      "Issue with image data\\me.jpg [Errno 2] No such file or directory: 'extracted/me.jpg'\n",
      "Issue with image data\\Sr p.jpg [Errno 2] No such file or directory: 'extracted/me.jpg'\n",
      "Issue with image data\\Srp.jpg [Errno 2] No such file or directory: 'extracted/me.jpg'\n"
     ]
    }
   ],
   "source": [
    "dest_dir = 'extracted'\n",
    "data_dir = 'data'\n",
    "image_for_compare = 'extracted/me.jpg'\n",
    "for image in os.listdir(data_dir): \n",
    "    src = os.path.join(data_dir,  image)\n",
    "    dest = os.path.join(dest_dir, image)\n",
    "    try: \n",
    "        result = compare_face(image_for_compare,src)\n",
    "        if result:\n",
    "            shutil.move(src, dest)\n",
    "            print(\"Matching image moved successfully\",image)\n",
    "        else:\n",
    "            print(\"Not matched with image\", image)\n",
    "    except Exception as e: \n",
    "        print('Issue with image {}'.format(src),e)"
   ]
  },
  {
   "cell_type": "code",
   "execution_count": 23,
   "id": "1705adf9",
   "metadata": {},
   "outputs": [
    {
     "name": "stdout",
     "output_type": "stream",
     "text": [
      "Not matched with image 1-2.jpg\n",
      "Not matched with image happy.jpg\n",
      "Not matched with image images3.jpg\n",
      "Matching image moved successfully IMG_20230701_102615.jpg\n",
      "Matching image moved successfully me.jpg\n"
     ]
    }
   ],
   "source": [
    "data_dir = 'data'\n",
    "dest_dir = 'extracted'\n",
    "cap = cv2.VideoCapture(0)\n",
    "\n",
    "success, img = cap.read()\n",
    "img = cv2.flip(img, 1)\n",
    "cv2.imwrite(\"webcam_image.jpg\",img)\n",
    "# print(compare_face('me.jpg', 'data/me.jpg'))\n",
    "while True:\n",
    "    cv2.imshow('webcam image', img)\n",
    "    if cv2.waitKey(1) == 27:\n",
    "        cv2.destroyAllWindows()\n",
    "        cap.release()\n",
    "        break\n",
    "\n",
    "for image in os.listdir(data_dir):\n",
    "    src = os.path.join(data_dir,image)\n",
    "    dest = os.path.join(dest_dir,image)\n",
    "    try:\n",
    "        result = compare_face('webcam_image.jpg', src)\n",
    "        if result:\n",
    "            shutil.move(src,dest)\n",
    "            print(\"Matching image moved successfully\", image)\n",
    "        else:\n",
    "            print(\"Not matched with image\",image)\n",
    "    except Exception as e:\n",
    "        print(\"Issue with image{}\".format(src), e)\n",
    "os.remove('webcam_image.jpg')"
   ]
  },
  {
   "cell_type": "code",
   "execution_count": null,
   "id": "2046db98",
   "metadata": {},
   "outputs": [],
   "source": []
  }
 ],
 "metadata": {
  "kernelspec": {
   "display_name": "venv (3.12.9)",
   "language": "python",
   "name": "python3"
  },
  "language_info": {
   "codemirror_mode": {
    "name": "ipython",
    "version": 3
   },
   "file_extension": ".py",
   "mimetype": "text/x-python",
   "name": "python",
   "nbconvert_exporter": "python",
   "pygments_lexer": "ipython3",
   "version": "3.12.9"
  }
 },
 "nbformat": 4,
 "nbformat_minor": 5
}
