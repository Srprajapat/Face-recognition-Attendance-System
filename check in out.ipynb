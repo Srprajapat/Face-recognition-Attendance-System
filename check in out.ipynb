{
 "cells": [
  {
   "cell_type": "code",
   "execution_count": 1,
   "id": "cace76ab",
   "metadata": {},
   "outputs": [
    {
     "name": "stderr",
     "output_type": "stream",
     "text": [
      "d:\\PROGRAMS\\Projects\\face recoginition\\venv\\Lib\\site-packages\\face_recognition_models\\__init__.py:7: UserWarning: pkg_resources is deprecated as an API. See https://setuptools.pypa.io/en/latest/pkg_resources.html. The pkg_resources package is slated for removal as early as 2025-11-30. Refrain from using this package or pin to Setuptools<81.\n",
      "  from pkg_resources import resource_filename\n"
     ]
    }
   ],
   "source": [
    "import os\n",
    "import cv2\n",
    "import face_recognition\n",
    "import pickle\n",
    "from datetime import datetime\n",
    "import numpy as np"
   ]
  },
  {
   "cell_type": "code",
   "execution_count": 2,
   "id": "0a48c3bb",
   "metadata": {},
   "outputs": [],
   "source": [
    "ATTENDANCE_LOG = \"attendance_log.csv\"\n",
    "USER_DATA_DIR = \"user_data\"\n",
    "UNKNOWN_FACES_DIR = \"unknown_faces\"\n",
    "THRESHOLD = 0.4"
   ]
  },
  {
   "cell_type": "code",
   "execution_count": 3,
   "id": "219f71cd",
   "metadata": {},
   "outputs": [],
   "source": [
    "def load_user_data():\n",
    "    user_data = {}\n",
    "    if not os.path.exists(USER_DATA_DIR):\n",
    "        os.makedirs(USER_DATA_DIR)\n",
    "        return user_data\n",
    "    \n",
    "    for user_id in os.listdir(USER_DATA_DIR):\n",
    "        user_dir = os.path.join(USER_DATA_DIR, user_id)\n",
    "        data_file = os.path.join(user_dir, f\"{user_id}_data.pkl\")\n",
    "        \n",
    "        if os.path.exists(data_file):\n",
    "            with open(data_file, 'rb') as f:\n",
    "                user_data[user_id] = pickle.load(f)\n",
    "    \n",
    "    return user_data"
   ]
  },
  {
   "cell_type": "code",
   "execution_count": 4,
   "id": "b3520872",
   "metadata": {},
   "outputs": [],
   "source": [
    "def initialize_attendance_log():\n",
    "    if not os.path.exists(ATTENDANCE_LOG):\n",
    "        with open(ATTENDANCE_LOG, 'w') as f:\n",
    "            f.write(\"timestamp,user_id,user_name,department,action\\n\")"
   ]
  },
  {
   "cell_type": "code",
   "execution_count": 5,
   "id": "547dd79b",
   "metadata": {},
   "outputs": [],
   "source": [
    "def log_attendance(user_data, action):\n",
    "    timestamp = datetime.now().strftime(\"%Y-%m-%d %H:%M:%S\")\n",
    "    with open(ATTENDANCE_LOG, 'a') as f:\n",
    "        f.write(f\"{timestamp},{user_data['user_id']},{user_data['user_name']},{user_data['department']},{action}\\n\")\n",
    "    print(f\"{action} recorded for {user_data['user_name']} ({user_data['user_id']})\")"
   ]
  },
  {
   "cell_type": "code",
   "execution_count": 6,
   "id": "bee92b01",
   "metadata": {},
   "outputs": [],
   "source": [
    "known_users = load_user_data()\n",
    "known_encodings = []\n",
    "known_ids = []\n",
    "user_info = {}\n",
    "\n",
    "for user_id, data in known_users.items():\n",
    "    for encoding in data['face_encodings']:\n",
    "        known_encodings.append(encoding)\n",
    "        known_ids.append(user_id)\n",
    "        user_info[user_id] = data"
   ]
  },
  {
   "cell_type": "code",
   "execution_count": null,
   "id": "5baba4e1",
   "metadata": {},
   "outputs": [],
   "source": [
    "def check_in_out(action):\n",
    "    print(\"Starting face recognition for attendance...\")\n",
    "    print(\"Press 'q' to quit\")\n",
    "    last_recognized = None\n",
    "    last_recognition_time = datetime.min\n",
    "\n",
    "    while True:\n",
    "        ret, frame = video_capture.read()\n",
    "        if not ret:\n",
    "            print(\"Error: Could not read frame from camera\")\n",
    "            break\n",
    "\n",
    "        rgb_frame = cv2.cvtColor(frame, cv2.COLOR_BGR2RGB)\n",
    "        face_locations = face_recognition.face_locations(rgb_frame)\n",
    "        if len(face_locations) != 1:\n",
    "            cv2.putText(frame, \"Please ensure one face in frame\", (30, 30), \n",
    "                        cv2.FONT_HERSHEY_SIMPLEX, 0.8, (0, 0, 255), 2)\n",
    "            cv2.imshow('Face Recognition - Press Q to quit', frame)\n",
    "            if cv2.waitKey(1) & 0xFF == ord('q'):\n",
    "                break\n",
    "            continue\n",
    "        \n",
    "        face_encoding = face_recognition.face_encodings(rgb_frame, face_locations)[0]\n",
    "        top, right, bottom, left = face_locations[0]\n",
    "        \n",
    "        matches = face_recognition.compare_faces(known_encodings, face_encoding, THRESHOLD)\n",
    "        face_distances = face_recognition.face_distance(known_encodings, face_encoding)\n",
    "        best_match_index = np.argmin(face_distances)\n",
    "        \n",
    "        if matches[best_match_index]:\n",
    "            user_id = known_ids[best_match_index]\n",
    "            user_data = user_info[user_id]\n",
    "            name = user_data['user_name']\n",
    "            current_time = datetime.now()\n",
    "            time_since_last = (current_time - last_recognition_time).total_seconds()\n",
    "            \n",
    "            if user_id != last_recognized or time_since_last > 120:\n",
    "                log_attendance(user_data, action)\n",
    "                last_recognized = user_id\n",
    "                last_recognition_time = current_time\n",
    "            \n",
    "            color = (0, 255, 0)\n",
    "            status_text = f\"Recognized: {name} ({action})\"\n",
    "        else:\n",
    "            color = (0, 0, 255)\n",
    "            status_text = \"Unknown user - not registered\"\n",
    "            name = \"Unknown\"\n",
    "        \n",
    "        cv2.rectangle(frame, (left, top), (right, bottom), color, 2)\n",
    "        cv2.rectangle(frame, (left, bottom - 35), (right, bottom), color, cv2.FILLED)\n",
    "        font = cv2.FONT_HERSHEY_DUPLEX\n",
    "        cv2.putText(frame, name, (left + 6, bottom - 6), font, 0.8, (255, 255, 255), 1)\n",
    "        cv2.putText(frame, status_text, (30, 30), font, 0.8, (255, 255, 255), 2)\n",
    "        \n",
    "        cv2.imshow('Face Recognition - Press Q to quit', frame)\n",
    "        \n",
    "        if cv2.waitKey(1) & 0xFF == ord('q'):\n",
    "            break\n"
   ]
  },
  {
   "cell_type": "code",
   "execution_count": 8,
   "id": "ff0fe15b",
   "metadata": {},
   "outputs": [],
   "source": [
    "initialize_attendance_log()"
   ]
  },
  {
   "cell_type": "code",
   "execution_count": 9,
   "id": "e40d7dcd",
   "metadata": {},
   "outputs": [],
   "source": [
    "video_capture = cv2.VideoCapture(0)"
   ]
  },
  {
   "cell_type": "code",
   "execution_count": 10,
   "id": "d4e838ef",
   "metadata": {},
   "outputs": [
    {
     "name": "stdout",
     "output_type": "stream",
     "text": [
      "Starting face recognition for attendance...\n",
      "Press 'q' to quit\n",
      "Check in recorded for sr (1)\n",
      "Check in recorded for sr (1)\n"
     ]
    }
   ],
   "source": [
    "check_in_out(\"Check in\")"
   ]
  },
  {
   "cell_type": "code",
   "execution_count": 11,
   "id": "81d180a8",
   "metadata": {},
   "outputs": [
    {
     "name": "stdout",
     "output_type": "stream",
     "text": [
      "Starting face recognition for attendance...\n",
      "Press 'q' to quit\n"
     ]
    }
   ],
   "source": [
    "check_in_out(\"Check out\")"
   ]
  },
  {
   "cell_type": "code",
   "execution_count": 12,
   "id": "5ee6afdd",
   "metadata": {},
   "outputs": [],
   "source": [
    "video_capture.release()\n",
    "cv2.destroyAllWindows()"
   ]
  }
 ],
 "metadata": {
  "kernelspec": {
   "display_name": "venv (3.12.9)",
   "language": "python",
   "name": "python3"
  },
  "language_info": {
   "codemirror_mode": {
    "name": "ipython",
    "version": 3
   },
   "file_extension": ".py",
   "mimetype": "text/x-python",
   "name": "python",
   "nbconvert_exporter": "python",
   "pygments_lexer": "ipython3",
   "version": "3.12.9"
  }
 },
 "nbformat": 4,
 "nbformat_minor": 5
}
